{
 "cells": [
  {
   "cell_type": "code",
   "execution_count": 7,
   "metadata": {},
   "outputs": [],
   "source": [
    "# Part 1: Building a CNN\n",
    "\n",
    "#Importing the Keras library\n",
    "from keras.models import Sequential\n",
    "from keras.layers import Conv2D\n",
    "from keras.layers import MaxPooling2D\n",
    "from keras.layers import Flatten\n",
    "from keras.layers import Dense"
   ]
  },
  {
   "cell_type": "code",
   "execution_count": 8,
   "metadata": {},
   "outputs": [
    {
     "name": "stderr",
     "output_type": "stream",
     "text": [
      "C:\\Users\\Pitou\\Anaconda3\\lib\\site-packages\\ipykernel_launcher.py:5: UserWarning: Update your `Conv2D` call to the Keras 2 API: `Conv2D(32, (3, 3), input_shape=(64, 64, 3..., activation=\"relu\")`\n",
      "  \"\"\"\n",
      "C:\\Users\\Pitou\\Anaconda3\\lib\\site-packages\\ipykernel_launcher.py:11: UserWarning: Update your `Conv2D` call to the Keras 2 API: `Conv2D(32, (3, 3), activation=\"relu\")`\n",
      "  # This is added back by InteractiveShellApp.init_path()\n",
      "C:\\Users\\Pitou\\Anaconda3\\lib\\site-packages\\ipykernel_launcher.py:15: UserWarning: Update your `Conv2D` call to the Keras 2 API: `Conv2D(64, (3, 3), activation=\"relu\")`\n",
      "  from ipykernel import kernelapp as app\n"
     ]
    }
   ],
   "source": [
    "#Initialising a CNN\n",
    "classifier = Sequential ()\n",
    "\n",
    "# Step 1 - Convolution\n",
    "classifier.add(Conv2D(32, 3, 3, input_shape =(64, 64, 3), activation = 'relu'))\n",
    "\n",
    "# Step 2 - MaxPooling\n",
    "classifier.add(MaxPooling2D(pool_size = (2, 2)))\n",
    "\n",
    "# Adding a second convolution layer\n",
    "classifier.add(Conv2D(32, 3, 3, activation = 'relu'))\n",
    "classifier.add(MaxPooling2D(pool_size = (2, 2)))\n",
    "\n",
    "# Adding a third convolution layer\n",
    "classifier.add(Conv2D(64, 3, 3, activation = 'relu'))\n",
    "classifier.add(MaxPooling2D(pool_size = (2, 2)))"
   ]
  },
  {
   "cell_type": "code",
   "execution_count": 9,
   "metadata": {},
   "outputs": [],
   "source": [
    "# Step 3 - Flatten\n",
    "classifier.add(Flatten())"
   ]
  },
  {
   "cell_type": "code",
   "execution_count": 10,
   "metadata": {},
   "outputs": [
    {
     "name": "stderr",
     "output_type": "stream",
     "text": [
      "C:\\Users\\Pitou\\Anaconda3\\lib\\site-packages\\ipykernel_launcher.py:4: UserWarning: Update your `Dense` call to the Keras 2 API: `Dense(activation=\"relu\", units=128)`\n",
      "  after removing the cwd from sys.path.\n",
      "C:\\Users\\Pitou\\Anaconda3\\lib\\site-packages\\ipykernel_launcher.py:5: UserWarning: Update your `Dense` call to the Keras 2 API: `Dense(activation=\"sigmoid\", units=1)`\n",
      "  \"\"\"\n"
     ]
    }
   ],
   "source": [
    "# Step 4 - Full Connection\n",
    "# softmax activation function for more than 2 outputs\n",
    "# sigmoid activation function for a binary output\n",
    "classifier.add(Dense(output_dim = 128, activation = 'relu'))\n",
    "classifier.add(Dense(output_dim = 1, activation = 'sigmoid'))"
   ]
  },
  {
   "cell_type": "code",
   "execution_count": 11,
   "metadata": {},
   "outputs": [],
   "source": [
    "# Compiling the CNN\n",
    "# Categorica_CrosslEntropy for more than 2 outputs\n",
    "classifier.compile(optimizer = 'adam', loss = 'binary_crossentropy', metrics = ['accuracy'])"
   ]
  },
  {
   "cell_type": "code",
   "execution_count": 16,
   "metadata": {},
   "outputs": [],
   "source": [
    "# Part 2 - Fitting the CNN to the image\n",
    "# Prevent overfitting by image augmentation\n",
    "from keras.preprocessing.image import ImageDataGenerator\n",
    "\n",
    "# Imgae Augmentation\n",
    "train_datagen = ImageDataGenerator(rescale = 1./255,\n",
    "                                   shear_range = 0.2,\n",
    "                                   zoom_range = 0.2,\n",
    "                                   horizontal_flip=True)\n",
    "\n",
    "test_datagen = ImageDataGenerator(rescale = 1./255)"
   ]
  },
  {
   "cell_type": "code",
   "execution_count": 22,
   "metadata": {},
   "outputs": [
    {
     "name": "stdout",
     "output_type": "stream",
     "text": [
      "Found 8000 images belonging to 2 classes.\n",
      "Found 2000 images belonging to 2 classes.\n"
     ]
    }
   ],
   "source": [
    "# Preprocessiong \n",
    "training_set = train_datagen.flow_from_directory (r\"C:\\Users\\Pitou\\Desktop\\CNN\\dataset\\training_set\",\n",
    "                                                 target_size = (64, 64),\n",
    "                                                 batch_size = 32,\n",
    "                                                 class_mode = 'binary')\n",
    "\n",
    "test_set = test_datagen.flow_from_directory(r\"C:\\Users\\Pitou\\Desktop\\CNN\\dataset\\test_set\",\n",
    "                                            target_size = (64, 64),\n",
    "                                            batch_size = 32,\n",
    "                                            class_mode = 'binary')"
   ]
  },
  {
   "cell_type": "code",
   "execution_count": 23,
   "metadata": {},
   "outputs": [
    {
     "name": "stderr",
     "output_type": "stream",
     "text": [
      "C:\\Users\\Pitou\\Anaconda3\\lib\\site-packages\\ipykernel_launcher.py:6: UserWarning: The semantics of the Keras 2 argument `steps_per_epoch` is not the same as the Keras 1 argument `samples_per_epoch`. `steps_per_epoch` is the number of batches to draw from the generator at each epoch. Basically steps_per_epoch = samples_per_epoch/batch_size. Similarly `nb_val_samples`->`validation_steps` and `val_samples`->`steps` arguments have changed. Update your method calls accordingly.\n",
      "  \n",
      "C:\\Users\\Pitou\\Anaconda3\\lib\\site-packages\\ipykernel_launcher.py:6: UserWarning: Update your `fit_generator` call to the Keras 2 API: `fit_generator(<keras_pre..., validation_data=<keras_pre..., steps_per_epoch=250, epochs=25, validation_steps=2000)`\n",
      "  \n"
     ]
    },
    {
     "name": "stdout",
     "output_type": "stream",
     "text": [
      "Epoch 1/25\n",
      "250/250 [==============================] - 336s 1s/step - loss: 0.6670 - acc: 0.5884 - val_loss: 0.6707 - val_acc: 0.6065\n",
      "Epoch 2/25\n",
      "250/250 [==============================] - 754s 3s/step - loss: 0.5911 - acc: 0.6853 - val_loss: 0.5755 - val_acc: 0.6940\n",
      "Epoch 3/25\n",
      "250/250 [==============================] - 371s 1s/step - loss: 0.5406 - acc: 0.7239 - val_loss: 0.5354 - val_acc: 0.7375\n",
      "Epoch 4/25\n",
      "250/250 [==============================] - 122s 489ms/step - loss: 0.5103 - acc: 0.7467 - val_loss: 0.5742 - val_acc: 0.7195\n",
      "Epoch 5/25\n",
      "250/250 [==============================] - 192s 767ms/step - loss: 0.4753 - acc: 0.7645 - val_loss: 0.4669 - val_acc: 0.7810\n",
      "Epoch 6/25\n",
      "250/250 [==============================] - 227s 908ms/step - loss: 0.4606 - acc: 0.7795 - val_loss: 0.4580 - val_acc: 0.7835\n",
      "Epoch 7/25\n",
      "250/250 [==============================] - 105s 418ms/step - loss: 0.4255 - acc: 0.8035 - val_loss: 0.4122 - val_acc: 0.8110\n",
      "Epoch 8/25\n",
      "250/250 [==============================] - 106s 424ms/step - loss: 0.4122 - acc: 0.8092 - val_loss: 0.4129 - val_acc: 0.8115\n",
      "Epoch 9/25\n",
      "250/250 [==============================] - 106s 422ms/step - loss: 0.4011 - acc: 0.8147 - val_loss: 0.4107 - val_acc: 0.8160\n",
      "Epoch 10/25\n",
      "250/250 [==============================] - 105s 422ms/step - loss: 0.3824 - acc: 0.8256 - val_loss: 0.4470 - val_acc: 0.8050\n",
      "Epoch 11/25\n",
      "250/250 [==============================] - 109s 437ms/step - loss: 0.3813 - acc: 0.8261 - val_loss: 0.3914 - val_acc: 0.8175\n",
      "Epoch 12/25\n",
      "250/250 [==============================] - 107s 427ms/step - loss: 0.3600 - acc: 0.8369 - val_loss: 0.3886 - val_acc: 0.8160\n",
      "Epoch 13/25\n",
      "250/250 [==============================] - 109s 434ms/step - loss: 0.3545 - acc: 0.8364 - val_loss: 0.3820 - val_acc: 0.8300\n",
      "Epoch 14/25\n",
      "250/250 [==============================] - 106s 423ms/step - loss: 0.3426 - acc: 0.8483 - val_loss: 0.3756 - val_acc: 0.8280\n",
      "Epoch 15/25\n",
      "250/250 [==============================] - 104s 418ms/step - loss: 0.3258 - acc: 0.8562 - val_loss: 0.3825 - val_acc: 0.8315\n",
      "Epoch 16/25\n",
      "250/250 [==============================] - 101s 404ms/step - loss: 0.3160 - acc: 0.8554 - val_loss: 0.3682 - val_acc: 0.8375\n",
      "Epoch 17/25\n",
      "250/250 [==============================] - 102s 407ms/step - loss: 0.3127 - acc: 0.8630 - val_loss: 0.4177 - val_acc: 0.8200\n",
      "Epoch 18/25\n",
      "250/250 [==============================] - 105s 421ms/step - loss: 0.2983 - acc: 0.8682 - val_loss: 0.3889 - val_acc: 0.8320\n",
      "Epoch 19/25\n",
      "250/250 [==============================] - 111s 445ms/step - loss: 0.3015 - acc: 0.8640 - val_loss: 0.4028 - val_acc: 0.8335\n",
      "Epoch 20/25\n",
      "250/250 [==============================] - 104s 417ms/step - loss: 0.2833 - acc: 0.8783 - val_loss: 0.3636 - val_acc: 0.8580\n",
      "Epoch 21/25\n",
      "250/250 [==============================] - 105s 419ms/step - loss: 0.2778 - acc: 0.8794 - val_loss: 0.4050 - val_acc: 0.8325\n",
      "Epoch 22/25\n",
      "250/250 [==============================] - 103s 413ms/step - loss: 0.2627 - acc: 0.8870 - val_loss: 0.3912 - val_acc: 0.8400\n",
      "Epoch 23/25\n",
      "250/250 [==============================] - 101s 406ms/step - loss: 0.2503 - acc: 0.8918 - val_loss: 0.3816 - val_acc: 0.8350\n",
      "Epoch 24/25\n",
      "250/250 [==============================] - 104s 414ms/step - loss: 0.2482 - acc: 0.8934 - val_loss: 0.3910 - val_acc: 0.8475\n",
      "Epoch 25/25\n",
      "250/250 [==============================] - 106s 423ms/step - loss: 0.2270 - acc: 0.9030 - val_loss: 0.3850 - val_acc: 0.8505\n"
     ]
    },
    {
     "data": {
      "text/plain": [
       "<keras.callbacks.History at 0x23b41163940>"
      ]
     },
     "execution_count": 23,
     "metadata": {},
     "output_type": "execute_result"
    }
   ],
   "source": [
    "# Fit the model\n",
    "classifier.fit_generator(training_set,\n",
    "                         samples_per_epoch = 8000,\n",
    "                         nb_epoch = 25,\n",
    "                         validation_data = test_set,\n",
    "                         nb_val_samples = 2000)\n",
    "\n",
    "# Get the accuracy of more than 80% in a test set\n",
    "# We can do by adding a Convolutional layer or a fully connected layer"
   ]
  },
  {
   "cell_type": "code",
   "execution_count": 26,
   "metadata": {},
   "outputs": [
    {
     "name": "stdout",
     "output_type": "stream",
     "text": [
      "The animal is a  dog\n"
     ]
    }
   ],
   "source": [
    "#Part 3 - Making predictions\n",
    "import numpy as np\n",
    "from keras.preprocessing import image\n",
    "test_image = image.load_img(r\"C:\\Users\\Pitou\\Desktop\\CNN\\dataset\\single_prediction\\cat_or_dog_1.jpg\", target_size = (64, 64))\n",
    "test_image = image.img_to_array(test_image)\n",
    "test_image = np.expand_dims(test_image, axis = 0)\n",
    "result = classifier.predict(test_image)\n",
    "training_set.class_indices\n",
    "if result[0][0] == 1:\n",
    "    prediction = 'dog'\n",
    "else:\n",
    "    prediction = 'cat'\n",
    "\n",
    "print(\"The animal is a \", prediction)"
   ]
  }
 ],
 "metadata": {
  "kernelspec": {
   "display_name": "Python 3",
   "language": "python",
   "name": "python3"
  },
  "language_info": {
   "codemirror_mode": {
    "name": "ipython",
    "version": 3
   },
   "file_extension": ".py",
   "mimetype": "text/x-python",
   "name": "python",
   "nbconvert_exporter": "python",
   "pygments_lexer": "ipython3",
   "version": "3.6.5"
  }
 },
 "nbformat": 4,
 "nbformat_minor": 2
}
